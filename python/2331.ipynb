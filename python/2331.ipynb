{
 "metadata": {
  "language_info": {
   "codemirror_mode": {
    "name": "ipython",
    "version": 3
   },
   "file_extension": ".py",
   "mimetype": "text/x-python",
   "name": "python",
   "nbconvert_exporter": "python",
   "pygments_lexer": "ipython3",
   "version": 3
  },
  "orig_nbformat": 2
 },
 "nbformat": 4,
 "nbformat_minor": 2,
 "cells": [
  {
   "cell_type": "code",
   "execution_count": null,
   "metadata": {},
   "outputs": [],
   "source": [
    "#boj 2331\n",
    "# 05-14 미리하기"
   ]
  },
  {
   "cell_type": "code",
   "execution_count": null,
   "metadata": {},
   "outputs": [],
   "source": [
    "import sys \r\n",
    "\r\n",
    "a, p = map(int, sys.stdin.readline().split()) \r\n",
    "seq = [a] \r\n",
    "link = [0]*250000 \r\n",
    "link[a] = 1 \r\n",
    "while True: \r\n",
    "    t = seq[-1] val = 0 \r\n",
    "    while t: \r\n",
    "        val += ((t%10) ** p) \r\n",
    "        t //= 10 \r\n",
    "        if not link[val]: \r\n",
    "            seq.append(val) \r\n",
    "            link[val] = 1 \r\n",
    "        else: \r\n",
    "            seq = seq[:seq.index(val)] \r\n",
    "            break \r\n",
    "sys.stdout.write(str(len(seq)))\r\n"
   ]
  }
 ]
}