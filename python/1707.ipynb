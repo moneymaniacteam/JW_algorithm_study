{
 "metadata": {
  "language_info": {
   "codemirror_mode": {
    "name": "ipython",
    "version": 3
   },
   "file_extension": ".py",
   "mimetype": "text/x-python",
   "name": "python",
   "nbconvert_exporter": "python",
   "pygments_lexer": "ipython3",
   "version": "3.6.4"
  },
  "orig_nbformat": 2,
  "kernelspec": {
   "name": "python364jvsc74a57bd04b83a0108fc3a4130f22d52e31e27d665420678abd973269dfffb0b762ee082d",
   "display_name": "Python 3.6.4 32-bit"
  },
  "metadata": {
   "interpreter": {
    "hash": "4b83a0108fc3a4130f22d52e31e27d665420678abd973269dfffb0b762ee082d"
   }
  }
 },
 "nbformat": 4,
 "nbformat_minor": 2,
 "cells": [
  {
   "cell_type": "code",
   "execution_count": 127,
   "metadata": {},
   "outputs": [],
   "source": [
    "#boj 1707"
   ]
  },
  {
   "cell_type": "code",
   "execution_count": 130,
   "metadata": {},
   "outputs": [],
   "source": [
    "from collections import deque\n",
    "import sys\n",
    "input = lambda: sys.stdin.readline()"
   ]
  },
  {
   "cell_type": "code",
   "execution_count": 136,
   "metadata": {},
   "outputs": [],
   "source": [
    "def bfs(i, c): # 정점, 색상\n",
    "    q = deque([i])\n",
    "    visited[i] = True\n",
    "    color[i] = c\n",
    "    while q:\n",
    "        i = q.popleft()\n",
    "        for j in arr[i]:\n",
    "            if not visited[j]:\n",
    "                visited[j] = True\n",
    "                q.append(j)\n",
    "                color[j] = 3- color[i]\n",
    "            else:\n",
    "                if color[i] == color[j]:\n",
    "                    return False\n",
    "    return True"
   ]
  },
  {
   "cell_type": "code",
   "execution_count": 139,
   "metadata": {},
   "outputs": [
    {
     "output_type": "stream",
     "name": "stdout",
     "text": [
      "YES\n"
     ]
    }
   ],
   "source": [
    "if __name__ == '__main__':\n",
    "    k = int(input())\n",
    "    for _ in range(k): # 테스트 케이스 \n",
    "        v,e = map(int, input().split())\n",
    "        color = [0] * (v+1)\n",
    "        arr = [[] for _ in range(v+1)]\n",
    "        for _ in range(e):\n",
    "            a,b = map(int, input().split())\n",
    "            arr[a].append(b)\n",
    "            arr[b].append(a)\n",
    "        \n",
    "        answer = True\n",
    "        visited = [False] * (v+1)\n",
    "        for i in range(1, v+1):\n",
    "            if not visited[i]:\n",
    "                if not bfs(i, 1): # return False이면 종료\n",
    "                    answer = False\n",
    "                    break\n",
    "        print('YES' if answer else 'NO')"
   ]
  },
  {
   "cell_type": "code",
   "execution_count": null,
   "metadata": {},
   "outputs": [],
   "source": []
  }
 ]
}