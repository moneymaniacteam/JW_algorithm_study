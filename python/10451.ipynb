{
 "metadata": {
  "language_info": {
   "codemirror_mode": {
    "name": "ipython",
    "version": 3
   },
   "file_extension": ".py",
   "mimetype": "text/x-python",
   "name": "python",
   "nbconvert_exporter": "python",
   "pygments_lexer": "ipython3",
   "version": 3
  },
  "orig_nbformat": 2
 },
 "nbformat": 4,
 "nbformat_minor": 2,
 "cells": [
  {
   "cell_type": "code",
   "execution_count": null,
   "metadata": {},
   "outputs": [],
   "source": [
    "#boj 10451\n",
    "# 그래프 탐색\n",
    "# dfs"
   ]
  },
  {
   "cell_type": "code",
   "execution_count": null,
   "metadata": {},
   "outputs": [],
   "source": [
    "import sys\n",
    "#sys.setrecursionlimit(10000)\n",
    "\n",
    "def dfs(start):\n",
    "    visited[start] = True\n",
    "    next = path[start]\n",
    "    if not visited[next]:\n",
    "        dfs(next)\n",
    "\n",
    "for _ in range(int(sys.stdin.readline())):\n",
    "    n = int(sys.stdin.readline())\n",
    "    path = [0] + list(map(int, sys.stdin.readline().split()))\n",
    "    visited = [True] + [False]*n\n",
    "    ans = 0\n",
    "\n",
    "    for i in range(1,n+1):\n",
    "        if not visited[i]:\n",
    "            dfs(i)\n",
    "            ans += 1\n",
    "    print(ans)"
   ]
  }
 ]
}