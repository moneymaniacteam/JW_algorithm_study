{
 "metadata": {
  "language_info": {
   "codemirror_mode": {
    "name": "ipython",
    "version": 3
   },
   "file_extension": ".py",
   "mimetype": "text/x-python",
   "name": "python",
   "nbconvert_exporter": "python",
   "pygments_lexer": "ipython3",
   "version": 3
  },
  "orig_nbformat": 2
 },
 "nbformat": 4,
 "nbformat_minor": 2,
 "cells": [
  {
   "cell_type": "code",
   "execution_count": null,
   "metadata": {},
   "outputs": [],
   "source": [
    "# 1931\n",
    "# greedy alg"
   ]
  },
  {
   "cell_type": "code",
   "execution_count": null,
   "metadata": {},
   "outputs": [],
   "source": [
    "import sys\n",
    "input = sys.stdin.readline\n",
    "\n",
    "def greedy(meeting):\n",
    "    cnt = 0\n",
    "    start = 0\n",
    "    for item in meeting:\n",
    "        if item[0] >= start:\n",
    "            start = item[1]\n",
    "            cnt += 1\n",
    "    return cnt\n",
    "\n",
    "N = int(input())\n",
    "meeting = []\n",
    "for i in range(N):\n",
    "    start, end = map(int, input().split())\n",
    "    meeting.append((start, end))\n",
    "meeting = sorted(meeting, key = lambda item:item[0])\n",
    "meeting = sorted(meeting, key = lambda item:item[1])\n",
    "print(greedy(meeting))"
   ]
  },
  {
   "cell_type": "code",
   "execution_count": null,
   "metadata": {},
   "outputs": [],
   "source": []
  }
 ]
}