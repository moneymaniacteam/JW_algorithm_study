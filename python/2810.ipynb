{
 "metadata": {
  "language_info": {
   "codemirror_mode": {
    "name": "ipython",
    "version": 3
   },
   "file_extension": ".py",
   "mimetype": "text/x-python",
   "name": "python",
   "nbconvert_exporter": "python",
   "pygments_lexer": "ipython3",
   "version": "3.9.5"
  },
  "orig_nbformat": 2,
  "kernelspec": {
   "name": "python395jvsc74a57bd0f3770e73af5ef2dd71ff5d609037a48d9f4381c59e369c5448d24575c71408ec",
   "display_name": "Python 3.9.5 64-bit"
  },
  "metadata": {
   "interpreter": {
    "hash": "f3770e73af5ef2dd71ff5d609037a48d9f4381c59e369c5448d24575c71408ec"
   }
  }
 },
 "nbformat": 4,
 "nbformat_minor": 2,
 "cells": [
  {
   "cell_type": "code",
   "execution_count": 1,
   "metadata": {},
   "outputs": [],
   "source": [
    "#boj 2810"
   ]
  },
  {
   "cell_type": "code",
   "execution_count": null,
   "metadata": {},
   "outputs": [],
   "source": [
    "N = int(input())\n",
    "seat = input()\n",
    "\n",
    "answer = 0\n",
    "couple = 0\n",
    "\n",
    "for ppl in seat:\n",
    "\t# L의 개수 확인\n",
    "\tif ppl == 'L':\n",
    "\t\tcouple += 1\n",
    "\n",
    "# L 자리만 컵홀더 하나 빼주면 된다\n",
    "answer = N+1-int(couple/2)\n",
    "if answer > N:\n",
    "\t# 컵홀더 사용 자리보다 사람이 적음\n",
    "\tanswer = N\n",
    "print(answer)"
   ]
  }
 ]
}