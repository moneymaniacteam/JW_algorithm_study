{
 "metadata": {
  "language_info": {
   "codemirror_mode": {
    "name": "ipython",
    "version": 3
   },
   "file_extension": ".py",
   "mimetype": "text/x-python",
   "name": "python",
   "nbconvert_exporter": "python",
   "pygments_lexer": "ipython3",
   "version": 3
  },
  "orig_nbformat": 2
 },
 "nbformat": 4,
 "nbformat_minor": 2,
 "cells": [
  {
   "cell_type": "code",
   "execution_count": null,
   "metadata": {},
   "outputs": [],
   "source": [
    "# boj 2225\n",
    "# dp부터 천천히"
   ]
  },
  {
   "cell_type": "code",
   "execution_count": null,
   "metadata": {},
   "outputs": [],
   "source": [
    "N,K = input().split()\n",
    "N=int(N)\n",
    "K=int(K)\n",
    "\n",
    "dp=[[0 for _ in range(K+1)] for _ in range(N+1)]\n",
    "\n",
    "if N >= 1:\n",
    "    for j in range(0, K + 1):\n",
    "        dp[1][j] = j\n",
    "for i in range(2,N+1):\n",
    "    dp[i][1]=1\n",
    "    for j in range(2,K+1):\n",
    "        for k in range(1,i+1):\n",
    "            dp[i][j]+=dp[k][j-1]\n",
    "        dp[i][j]+=1\n",
    "\n",
    "\n",
    "print(dp[N][K]%1000000000)"
   ]
  }
 ]
}