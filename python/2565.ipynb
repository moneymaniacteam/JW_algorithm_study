{
 "metadata": {
  "language_info": {
   "codemirror_mode": {
    "name": "ipython",
    "version": 3
   },
   "file_extension": ".py",
   "mimetype": "text/x-python",
   "name": "python",
   "nbconvert_exporter": "python",
   "pygments_lexer": "ipython3",
   "version": "3.9.5"
  },
  "orig_nbformat": 2,
  "kernelspec": {
   "name": "python395jvsc74a57bd0f3770e73af5ef2dd71ff5d609037a48d9f4381c59e369c5448d24575c71408ec",
   "display_name": "Python 3.9.5 64-bit"
  },
  "metadata": {
   "interpreter": {
    "hash": "f3770e73af5ef2dd71ff5d609037a48d9f4381c59e369c5448d24575c71408ec"
   }
  }
 },
 "nbformat": 4,
 "nbformat_minor": 2,
 "cells": [
  {
   "cell_type": "code",
   "execution_count": 1,
   "metadata": {},
   "outputs": [],
   "source": [
    "# boj 2565\n",
    "# 무친 초등부 문제;\n",
    "# 나는 초딩때 무얼 하였는가\n",
    "\n",
    "\n",
    "\n",
    "\n",
    "# 한쪽 전봇대의 가장 긴 증가하는 부분수열을 구하자."
   ]
  },
  {
   "cell_type": "code",
   "execution_count": null,
   "metadata": {},
   "outputs": [],
   "source": [
    "\n",
    "n = int(input())\n",
    "w = []\n",
    "w_b = []\n",
    "dp = [0 for i in range(n)]\n",
    "for i in range(n):\n",
    "    w.append(list(map(int, input().split())))\n",
    "w.sort(key = lambda x:x[0])\n",
    "for i in range(n):\n",
    "    w_b.append(w[i][1])\n",
    "for i in range(n):\n",
    "    for j in range(i):\n",
    "        if w_b[i] > w_b[j] and dp[i] < dp[j]:\n",
    "            dp[i] = dp[j]\n",
    "    dp[i] += 1\n",
    "print(n - max(dp))"
   ]
  }
 ]
}