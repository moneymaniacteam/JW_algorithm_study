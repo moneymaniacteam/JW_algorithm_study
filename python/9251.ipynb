{
 "metadata": {
  "language_info": {
   "codemirror_mode": {
    "name": "ipython",
    "version": 3
   },
   "file_extension": ".py",
   "mimetype": "text/x-python",
   "name": "python",
   "nbconvert_exporter": "python",
   "pygments_lexer": "ipython3",
   "version": "3.9.5"
  },
  "orig_nbformat": 2,
  "kernelspec": {
   "name": "python395jvsc74a57bd0f3770e73af5ef2dd71ff5d609037a48d9f4381c59e369c5448d24575c71408ec",
   "display_name": "Python 3.9.5 64-bit"
  },
  "metadata": {
   "interpreter": {
    "hash": "f3770e73af5ef2dd71ff5d609037a48d9f4381c59e369c5448d24575c71408ec"
   }
  }
 },
 "nbformat": 4,
 "nbformat_minor": 2,
 "cells": [
  {
   "cell_type": "code",
   "execution_count": 1,
   "metadata": {},
   "outputs": [],
   "source": [
    "# longest common subsequence\n",
    "# 9251\n"
   ]
  },
  {
   "cell_type": "code",
   "execution_count": null,
   "metadata": {},
   "outputs": [],
   "source": [
    "a = [x for x in input()]\n",
    "b = [x for x in input()]\n",
    "A = len(a)\n",
    "B = len(b)\n",
    "dp = [[0] * (A + 1) for _ in range(B + 1)]\n",
    "\n",
    "# dp[i][j] : i번째 문자와 j번째 문자 사이의 LCS길이\n",
    "for i in range(1, B + 1):\n",
    "    for j in range(1, A + 1):\n",
    "        dp[i][j] = max(dp[i][j - 1], dp[i - 1][j], dp[i - 1][j - 1] + (a[j - 1] == b[i - 1]))\n",
    "print(dp[B][A])"
   ]
  }
 ]
}