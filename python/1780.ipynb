{
 "metadata": {
  "language_info": {
   "codemirror_mode": {
    "name": "ipython",
    "version": 3
   },
   "file_extension": ".py",
   "mimetype": "text/x-python",
   "name": "python",
   "nbconvert_exporter": "python",
   "pygments_lexer": "ipython3",
   "version": "3.6.4"
  },
  "orig_nbformat": 2,
  "kernelspec": {
   "name": "python364jvsc74a57bd04b83a0108fc3a4130f22d52e31e27d665420678abd973269dfffb0b762ee082d",
   "display_name": "Python 3.6.4 32-bit"
  },
  "metadata": {
   "interpreter": {
    "hash": "4b83a0108fc3a4130f22d52e31e27d665420678abd973269dfffb0b762ee082d"
   }
  }
 },
 "nbformat": 4,
 "nbformat_minor": 2,
 "cells": [
  {
   "cell_type": "code",
   "execution_count": null,
   "metadata": {},
   "outputs": [],
   "source": [
    "# 재귀를 이용하여 분할하여 문제 해결"
   ]
  },
  {
   "cell_type": "code",
   "execution_count": 3,
   "metadata": {},
   "outputs": [],
   "source": [
    "n = int(input())"
   ]
  },
  {
   "cell_type": "code",
   "execution_count": 4,
   "metadata": {},
   "outputs": [],
   "source": [
    "A = [[0 for _ in range(n)] for _ in range(n)]\n",
    "for i in range(n):\n",
    "    A[i]=list(map(int,input().split()))"
   ]
  },
  {
   "cell_type": "code",
   "execution_count": 75,
   "metadata": {},
   "outputs": [],
   "source": [
    "# 종이별로 카운트하는 배열 생성\n",
    "pap = [0,0,0]"
   ]
  },
  {
   "cell_type": "code",
   "execution_count": 76,
   "metadata": {},
   "outputs": [],
   "source": [
    "# 하나의 종이에 같은 수가 들어있는지 확인\n",
    "def check(i,Arr):\n",
    "    \n",
    "    if len(Arr) == 1:\n",
    "        return True\n",
    "    else:\n",
    "        for j in Arr:\n",
    "            for k in range(len(j)):\n",
    "                if i != j[k]:\n",
    "                    return False\n",
    "    return True"
   ]
  },
  {
   "cell_type": "code",
   "execution_count": 77,
   "metadata": {},
   "outputs": [],
   "source": [
    "# check 함수가 true 즉, 하나의 종이로 판별되면 해당 종이 +1, 실패하면 3^2분할 하여 재귀\n",
    "def paper_num(A):\n",
    "\n",
    "    if check(A[0][0],A):\n",
    "        #print(A[0][0])\n",
    "        pap[A[0][0]]+=1\n",
    "    else:\n",
    "        for i in range(0,len(A),+len(A)//3): # row\n",
    "            for j in range(0,len(A),+len(A)//3): # column\n",
    "                paper_num([row[j:j+len(A)//3] for row in A[i:i+len(A)//3]])\n"
   ]
  },
  {
   "cell_type": "code",
   "execution_count": 78,
   "metadata": {},
   "outputs": [
    {
     "output_type": "stream",
     "name": "stdout",
     "text": [
      "10\n12\n11\n"
     ]
    }
   ],
   "source": [
    "paper_num(A)\n",
    "print(pap[-1])\n",
    "print(pap[0])\n",
    "print(pap[1])"
   ]
  }
 ]
}