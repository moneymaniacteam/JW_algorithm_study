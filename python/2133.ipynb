{
 "metadata": {
  "language_info": {
   "codemirror_mode": {
    "name": "ipython",
    "version": 3
   },
   "file_extension": ".py",
   "mimetype": "text/x-python",
   "name": "python",
   "nbconvert_exporter": "python",
   "pygments_lexer": "ipython3",
   "version": "3.6.4"
  },
  "orig_nbformat": 2,
  "kernelspec": {
   "name": "python364jvsc74a57bd04b83a0108fc3a4130f22d52e31e27d665420678abd973269dfffb0b762ee082d",
   "display_name": "Python 3.6.4 32-bit"
  },
  "metadata": {
   "interpreter": {
    "hash": "4b83a0108fc3a4130f22d52e31e27d665420678abd973269dfffb0b762ee082d"
   }
  }
 },
 "nbformat": 4,
 "nbformat_minor": 2,
 "cells": [
  {
   "cell_type": "code",
   "execution_count": 1,
   "metadata": {},
   "outputs": [],
   "source": [
    "# boj 2133\n",
    "# 무지성 풀이"
   ]
  },
  {
   "cell_type": "code",
   "execution_count": 4,
   "metadata": {},
   "outputs": [
    {
     "output_type": "stream",
     "name": "stdout",
     "text": [
      "3\n"
     ]
    }
   ],
   "source": [
    "n = int(input())\n",
    "\n",
    "dp=[0]*(31)\n",
    "\n",
    "dp[2]=3\n",
    "for i in range(4,n+1,2):\n",
    "    dp[i]=dp[i-2]*3\n",
    "    for j in range(2,i-2,2):\n",
    "        dp[i]+=dp[j]*2\n",
    "    dp[i]+=2\n",
    "print(dp[n])"
   ]
  },
  {
   "cell_type": "code",
   "execution_count": null,
   "metadata": {},
   "outputs": [],
   "source": []
  }
 ]
}