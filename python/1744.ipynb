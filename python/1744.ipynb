{
 "metadata": {
  "language_info": {
   "codemirror_mode": {
    "name": "ipython",
    "version": 3
   },
   "file_extension": ".py",
   "mimetype": "text/x-python",
   "name": "python",
   "nbconvert_exporter": "python",
   "pygments_lexer": "ipython3",
   "version": "3.6.4"
  },
  "orig_nbformat": 2,
  "kernelspec": {
   "name": "python364jvsc74a57bd04b83a0108fc3a4130f22d52e31e27d665420678abd973269dfffb0b762ee082d",
   "display_name": "Python 3.6.4 32-bit"
  },
  "metadata": {
   "interpreter": {
    "hash": "4b83a0108fc3a4130f22d52e31e27d665420678abd973269dfffb0b762ee082d"
   }
  }
 },
 "nbformat": 4,
 "nbformat_minor": 2,
 "cells": [
  {
   "cell_type": "code",
   "execution_count": null,
   "metadata": {},
   "outputs": [],
   "source": [
    "# BOJ 1744\n",
    "# sort 이후 case 별로 계산하기\n",
    "# 시도 5번\n",
    "# sort 이후, \n",
    "\n",
    "# 1보다 큰 양수인경우 --> 가장 배열의 뒤부터 (왜냐하면 배열의 뒤가 가장 큰수이기 때문) 두개씩 묶어가며 진행\n",
    "# 1인 경우 --> 그냥 더하는게 묶어서 곱해지는 것보다 이득이다.\n",
    "# 음수인 경우 --> 두개를 묶어 양수를 만들자. 이경우는 배열의 앞부터(앞이 절대값이 크기 때문)\n",
    "# 만약 음수가 홀수개인 경우! --> 배열에 0이 있으면 0과 곱하여 상쇄시키자!!!"
   ]
  },
  {
   "cell_type": "code",
   "execution_count": 96,
   "metadata": {},
   "outputs": [],
   "source": [
    "import random"
   ]
  },
  {
   "cell_type": "code",
   "execution_count": 97,
   "metadata": {},
   "outputs": [],
   "source": [
    "n = int(input())"
   ]
  },
  {
   "cell_type": "code",
   "execution_count": 98,
   "metadata": {},
   "outputs": [],
   "source": [
    "arr = []\n",
    "for i in range(n):\n",
    "    arr.append(int(input()))"
   ]
  },
  {
   "cell_type": "code",
   "execution_count": 99,
   "metadata": {},
   "outputs": [],
   "source": [
    "def quick_Sort(arr,p,r):\n",
    "    if p < r:\n",
    "        q = partition(arr,p,r)\n",
    "        quick_Sort(arr,p,q- 1)\n",
    "        quick_Sort(arr,q+ 1,r)\n",
    "    return arr\n",
    "\n",
    "def partition(arr,p,q):\n",
    "    pivot = random.randint(p,q)\n",
    "    x = arr[pivot]\n",
    "    i = p\n",
    "    tmp = x\n",
    "    arr[pivot] = arr[p]\n",
    "    arr[p] = x\n",
    "    for j in range(p+ 1,q+ 1):\n",
    "        if arr[j] <= x:\n",
    "            i += 1\n",
    "            temp = arr[j]\n",
    "            arr[j] = arr[i]\n",
    "            arr[i] = temp\n",
    "    tp = arr[p]\n",
    "    arr[p] = arr[i]\n",
    "    arr[i] = tp\n",
    "#print(i)\n",
    "    return i\n",
    "\n"
   ]
  },
  {
   "cell_type": "code",
   "execution_count": 100,
   "metadata": {},
   "outputs": [],
   "source": [
    "arr= quick_Sort(arr,0,len(arr)-1)"
   ]
  },
  {
   "cell_type": "code",
   "execution_count": 104,
   "metadata": {},
   "outputs": [
    {
     "output_type": "stream",
     "name": "stdout",
     "text": [
      "1\n1\n0\n23\n"
     ]
    }
   ],
   "source": [
    "summ = 0\n",
    "k = len(arr)-1\n",
    "while k-1 >= 0 and arr[k-1] > 0:\n",
    "    if arr[k-1] > 1:\n",
    "        #print(arr[k])\n",
    "        #print(arr[k-1])\n",
    "        #print(\"====================\")\n",
    "        summ = summ + (arr[k]*arr[k-1])\n",
    "        k -= 2\n",
    "    elif arr[k-1] == 1 or arr[k-1] == 0:\n",
    "        #print(arr[k])\n",
    "        summ += arr[k]\n",
    "        k -= 1\n",
    "#print(k)\n",
    "minus = 0\n",
    "while minus+1 <= k and arr[minus]*arr[minus+1] >= 0:\n",
    "    #print(arr[minus+1])\n",
    "    #print(arr[minus])\n",
    "    #print(\"====================\")\n",
    "    summ = summ + (arr[minus]*arr[minus+1])\n",
    "    minus += 2\n",
    "while minus <= k:\n",
    "    #print(arr[minus])\n",
    "    summ += arr[minus]\n",
    "    minus += 1\n",
    "        \n",
    "\n",
    "print(summ)"
   ]
  },
  {
   "cell_type": "code",
   "execution_count": null,
   "metadata": {},
   "outputs": [],
   "source": []
  }
 ]
}