{
 "metadata": {
  "language_info": {
   "codemirror_mode": {
    "name": "ipython",
    "version": 3
   },
   "file_extension": ".py",
   "mimetype": "text/x-python",
   "name": "python",
   "nbconvert_exporter": "python",
   "pygments_lexer": "ipython3",
   "version": "3.6.4"
  },
  "orig_nbformat": 2,
  "kernelspec": {
   "name": "python364jvsc74a57bd04b83a0108fc3a4130f22d52e31e27d665420678abd973269dfffb0b762ee082d",
   "display_name": "Python 3.6.4 32-bit"
  },
  "metadata": {
   "interpreter": {
    "hash": "4b83a0108fc3a4130f22d52e31e27d665420678abd973269dfffb0b762ee082d"
   }
  }
 },
 "nbformat": 4,
 "nbformat_minor": 2,
 "cells": [
  {
   "cell_type": "code",
   "execution_count": 1,
   "metadata": {},
   "outputs": [],
   "source": [
    "# boj 2606\n",
    "# bfs... 이거는 알겠는데 왜 미로는 모르겠냐;"
   ]
  },
  {
   "cell_type": "code",
   "execution_count": 3,
   "metadata": {},
   "outputs": [],
   "source": [
    "n = int(input())\n",
    "k = int(input())"
   ]
  },
  {
   "cell_type": "code",
   "execution_count": 10,
   "metadata": {},
   "outputs": [],
   "source": [
    "arr = [[0 for _ in range(n+1)]for _ in range(n+1)]\n",
    "for i in range(k):\n",
    "    x,y = map(int,input().split())\n",
    "    arr[x][y]=1\n",
    "    arr[y][x]=1\n"
   ]
  },
  {
   "cell_type": "code",
   "execution_count": 11,
   "metadata": {
    "tags": []
   },
   "outputs": [
    {
     "output_type": "stream",
     "name": "stdout",
     "text": [
      "1\n2\n5\n1\n3\n5\n1\n2\n6\n2\n4\n5\n3\n5\n"
     ]
    }
   ],
   "source": [
    "visit = [0 for _ in range(n+1)]\n",
    "visit[0]=1\n",
    "count = 0\n",
    "q=[]\n",
    "q.append(1)\n",
    "while q:\n",
    "    i = q.pop(0)\n",
    "    #print(i)\n",
    "    if visit[i]==0:\n",
    "        visit[i]=1\n",
    "        count+=1\n",
    "        for j in range(n+1):\n",
    "            if arr[i][j]==1:\n",
    "                q.append(j)\n",
    "\n",
    "print(count-1)"
   ]
  },
  {
   "cell_type": "code",
   "execution_count": null,
   "metadata": {},
   "outputs": [],
   "source": []
  }
 ]
}