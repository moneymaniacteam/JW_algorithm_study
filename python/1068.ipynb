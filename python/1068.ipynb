{
 "metadata": {
  "language_info": {
   "codemirror_mode": {
    "name": "ipython",
    "version": 3
   },
   "file_extension": ".py",
   "mimetype": "text/x-python",
   "name": "python",
   "nbconvert_exporter": "python",
   "pygments_lexer": "ipython3",
   "version": "3.9.5"
  },
  "orig_nbformat": 2,
  "kernelspec": {
   "name": "python395jvsc74a57bd0f3770e73af5ef2dd71ff5d609037a48d9f4381c59e369c5448d24575c71408ec",
   "display_name": "Python 3.9.5 64-bit"
  },
  "metadata": {
   "interpreter": {
    "hash": "f3770e73af5ef2dd71ff5d609037a48d9f4381c59e369c5448d24575c71408ec"
   }
  }
 },
 "nbformat": 4,
 "nbformat_minor": 2,
 "cells": [
  {
   "cell_type": "code",
   "execution_count": 1,
   "metadata": {},
   "outputs": [],
   "source": [
    "# 1068\n",
    "# tree를 dfs 복습"
   ]
  },
  {
   "cell_type": "code",
   "execution_count": null,
   "metadata": {},
   "outputs": [],
   "source": [
    "def dfs(root):\n",
    "    global cnt\n",
    "    isTrue = False\n",
    "    visit[root] = 1\n",
    "    for i in range(n):\n",
    "        if s[root][i] == 1 and visit[i] == 0:\n",
    "            isTrue = True\n",
    "            dfs(i)\n",
    "    if isTrue == False:\n",
    "        cnt += 1\n",
    "n = int(input())\n",
    "li = list(map(int, input().split()))\n",
    "d = int(input())\n",
    "s = [[0] * n for i in range(n)]\n",
    "visit = [0 for i in range(n)]\n",
    "li_len = len(li)\n",
    "cnt = 0\n",
    "for i in range(li_len):\n",
    "    if li[i] != -1:\n",
    "        s[i][li[i]] = 1\n",
    "        s[li[i]][i] = 1\n",
    "    else:\n",
    "        root = i\n",
    "for i in range(n):\n",
    "    s[i][d] = 0\n",
    "    s[d][i] = 0\n",
    "dfs(root)\n",
    "if d == root:\n",
    "    print(0)\n",
    "else:\n",
    "    print(cnt)"
   ]
  }
 ]
}