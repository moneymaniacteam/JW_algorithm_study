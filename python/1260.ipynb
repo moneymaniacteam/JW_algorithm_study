{
 "metadata": {
  "language_info": {
   "codemirror_mode": {
    "name": "ipython",
    "version": 3
   },
   "file_extension": ".py",
   "mimetype": "text/x-python",
   "name": "python",
   "nbconvert_exporter": "python",
   "pygments_lexer": "ipython3",
   "version": "3.6.4"
  },
  "orig_nbformat": 2,
  "kernelspec": {
   "name": "python364jvsc74a57bd04b83a0108fc3a4130f22d52e31e27d665420678abd973269dfffb0b762ee082d",
   "display_name": "Python 3.6.4 32-bit"
  },
  "metadata": {
   "interpreter": {
    "hash": "4b83a0108fc3a4130f22d52e31e27d665420678abd973269dfffb0b762ee082d"
   }
  }
 },
 "nbformat": 4,
 "nbformat_minor": 2,
 "cells": [
  {
   "cell_type": "code",
   "execution_count": 21,
   "metadata": {},
   "outputs": [],
   "source": [
    "n,m,v = input().split()\n",
    "n = int(n)\n",
    "m = int(m)\n",
    "v = int(v)"
   ]
  },
  {
   "cell_type": "code",
   "execution_count": 22,
   "metadata": {},
   "outputs": [],
   "source": [
    "tree = [[0 for _ in range(n+1)] for _ in range(n+1)]"
   ]
  },
  {
   "cell_type": "code",
   "execution_count": 23,
   "metadata": {},
   "outputs": [],
   "source": [
    "for i in range(m):\n",
    "    a,b = input().split()\n",
    "    a = int(a)\n",
    "    b = int(b)\n",
    "    tree[a][b]=1\n",
    "    tree[b][a]=1"
   ]
  },
  {
   "cell_type": "code",
   "execution_count": 30,
   "metadata": {},
   "outputs": [],
   "source": [
    "def dfs():\n",
    "    visit = [0 for _ in range(n+1)]\n",
    "    visit[v]=1\n",
    "    stack=[v]\n",
    "    cu = v\n",
    "    for _ in range(m):\n",
    "        ne = cu\n",
    "        for i in range(n+1):\n",
    "            if visit[i]==0 and tree[cu][i]==1:\n",
    "                visit[i]=1\n",
    "                stack.append(i)\n",
    "                ne = i\n",
    "                break\n",
    "        if ne == cu:\n",
    "            tmp = stack.index(cu)\n",
    "            cu = stack[tmp-1]\n",
    "        else:\n",
    "            cu = stack[-1]\n",
    "    return stack"
   ]
  },
  {
   "cell_type": "code",
   "execution_count": 31,
   "metadata": {},
   "outputs": [],
   "source": [
    "def bfs():\n",
    "    visit = [0 for _ in range(n+1)]\n",
    "    visit[v]=1\n",
    "    stack=[v]\n",
    "    cu = v\n",
    "    for _ in range(m):\n",
    "        \n",
    "        for i in range(n+1):\n",
    "            if visit[i]==0 and tree[cu][i]==1:\n",
    "                visit[i]=1\n",
    "                stack.append(i)\n",
    "                \n",
    "        tmp = stack.index(cu)    \n",
    "        if len(stack) > tmp+1:    \n",
    "            cu = stack[tmp+1]\n",
    "    return stack"
   ]
  },
  {
   "cell_type": "code",
   "execution_count": 34,
   "metadata": {},
   "outputs": [
    {
     "output_type": "stream",
     "name": "stdout",
     "text": [
      "3 1 2 5 4 \n3 1 4 2 5 \n"
     ]
    }
   ],
   "source": [
    "stack = dfs()\n",
    "for i in stack:\n",
    "    print(i,end=' ')\n",
    "print()\n",
    "stack = bfs()\n",
    "for i in stack:\n",
    "    print(i,end=' ')\n",
    "print()"
   ]
  },
  {
   "cell_type": "code",
   "execution_count": null,
   "metadata": {},
   "outputs": [],
   "source": []
  }
 ]
}