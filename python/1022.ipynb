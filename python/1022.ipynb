{
 "metadata": {
  "language_info": {
   "codemirror_mode": {
    "name": "ipython",
    "version": 3
   },
   "file_extension": ".py",
   "mimetype": "text/x-python",
   "name": "python",
   "nbconvert_exporter": "python",
   "pygments_lexer": "ipython3",
   "version": 3
  },
  "orig_nbformat": 2
 },
 "nbformat": 4,
 "nbformat_minor": 2,
 "cells": [
  {
   "cell_type": "code",
   "execution_count": null,
   "metadata": {},
   "outputs": [],
   "source": [
    "# boj 1022\n",
    "# 단순 구현문제"
   ]
  },
  {
   "cell_type": "code",
   "execution_count": null,
   "metadata": {},
   "outputs": [],
   "source": [
    "import sys\n",
    "input=sys.stdin.readline\n",
    "\n",
    "def getValue(r,c):\n",
    "    n=max(abs(r), abs(c))\n",
    "    last= 2*n+1\n",
    "    last= last**2\n",
    "\n",
    "    if r==n:#아래 변\n",
    "        return last-(n-c)\n",
    "    elif c==-n:#왼쪽 변\n",
    "        return last-(2*n)-(n-r)\n",
    "    elif r==-n:#윗 변\n",
    "        return last-(4*n)-(n+c)\n",
    "    else: #오른쪽 변\n",
    "        return last-(6*n)-(n+r)\n",
    "\n",
    "#자리수 계산\n",
    "def getDigit(val):\n",
    "    return len(str(val))\n",
    "\n",
    "r1, c1, r2, c2=map(int, input().strip().split())\n",
    "\n",
    "max_len=0\n",
    "for y in range(r1, r2+1):\n",
    "    for x in range(c1, c2+1):\n",
    "        max_len=max( max_len, getDigit(getValue(y,x)) )\n",
    "\n",
    "output=[]\n",
    "for y in range(r1, r2+1):\n",
    "    for x in range(c1, c2+1):\n",
    "        output.append(f'{getValue(y,x): >{max_len}} ')\n",
    "    output.append('\\n')\n",
    "        \n",
    "#소용돌이 출력\n",
    "sys.stdout.write(''.join(output))"
   ]
  }
 ]
}