{
 "metadata": {
  "language_info": {
   "codemirror_mode": {
    "name": "ipython",
    "version": 3
   },
   "file_extension": ".py",
   "mimetype": "text/x-python",
   "name": "python",
   "nbconvert_exporter": "python",
   "pygments_lexer": "ipython3",
   "version": "3.6.4"
  },
  "orig_nbformat": 2,
  "kernelspec": {
   "name": "python364jvsc74a57bd04b83a0108fc3a4130f22d52e31e27d665420678abd973269dfffb0b762ee082d",
   "display_name": "Python 3.6.4 32-bit"
  },
  "metadata": {
   "interpreter": {
    "hash": "4b83a0108fc3a4130f22d52e31e27d665420678abd973269dfffb0b762ee082d"
   }
  }
 },
 "nbformat": 4,
 "nbformat_minor": 2,
 "cells": [
  {
   "cell_type": "code",
   "execution_count": 119,
   "metadata": {},
   "outputs": [],
   "source": [
    "k, n = map(int,input().split())"
   ]
  },
  {
   "cell_type": "code",
   "execution_count": 120,
   "metadata": {},
   "outputs": [],
   "source": [
    "lan = []\n",
    "for i in range(k):\n",
    "    lan.append(int(input()))"
   ]
  },
  {
   "cell_type": "code",
   "execution_count": 125,
   "metadata": {
    "tags": []
   },
   "outputs": [],
   "source": [
    "maxA = 2**31\n",
    "minA = 1\n",
    "count = 0\n",
    "length = 0\n",
    "double_check = 0\n",
    "\n",
    "while 1:\n",
    "    count = 0\n",
    "    #print(mid)\n",
    "    mid = (maxA+minA)//2\n",
    "    if mid == double_check:\n",
    "        break\n",
    "    double_check = mid\n",
    "    #print(minA, maxA, mid)\n",
    "    for j in range(k):\n",
    "        count += lan[j]//mid\n",
    "    if count >= n:\n",
    "        if mid > length:\n",
    "            #print(\"xxxxxxxxxxxxxxxxxxxxxx\")\n",
    "            length = mid\n",
    "        minA = mid\n",
    "    else:\n",
    "        maxA = mid\n",
    "        "
   ]
  },
  {
   "cell_type": "code",
   "execution_count": 126,
   "metadata": {},
   "outputs": [
    {
     "output_type": "stream",
     "name": "stdout",
     "text": [
      "1\n"
     ]
    }
   ],
   "source": [
    "print(length)"
   ]
  },
  {
   "cell_type": "code",
   "execution_count": null,
   "metadata": {},
   "outputs": [],
   "source": []
  }
 ]
}